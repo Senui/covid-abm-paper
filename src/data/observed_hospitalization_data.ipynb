{
 "cells": [
  {
   "cell_type": "code",
   "execution_count": 2,
   "id": "5df94313",
   "metadata": {},
   "outputs": [],
   "source": [
    "import numpy as np\n",
    "import pandas as pd"
   ]
  },
  {
   "cell_type": "code",
   "execution_count": 3,
   "id": "4e254c34",
   "metadata": {},
   "outputs": [],
   "source": [
    "InfDF = pd.read_csv(\"~/cbs-covid/src/data/COVID-19_ziekenhuisopnames.csv\", delimiter=';')\n",
    " # filter data till august 2021, so it matches the data available when the paper was published\n",
    "InfDF = InfDF[(InfDF['Date_of_statistics'] < '2020-06-02')]"
   ]
  },
  {
   "cell_type": "code",
   "execution_count": 4,
   "id": "f6b9e195",
   "metadata": {},
   "outputs": [
    {
     "data": {
      "text/html": [
       "<div>\n",
       "<style scoped>\n",
       "    .dataframe tbody tr th:only-of-type {\n",
       "        vertical-align: middle;\n",
       "    }\n",
       "\n",
       "    .dataframe tbody tr th {\n",
       "        vertical-align: top;\n",
       "    }\n",
       "\n",
       "    .dataframe thead th {\n",
       "        text-align: right;\n",
       "    }\n",
       "</style>\n",
       "<table border=\"1\" class=\"dataframe\">\n",
       "  <thead>\n",
       "    <tr style=\"text-align: right;\">\n",
       "      <th></th>\n",
       "      <th>Version</th>\n",
       "      <th>Date_of_report</th>\n",
       "      <th>Date_of_statistics</th>\n",
       "      <th>Municipality_code</th>\n",
       "      <th>Municipality_name</th>\n",
       "      <th>Security_region_code</th>\n",
       "      <th>Security_region_name</th>\n",
       "      <th>Hospital_admission_notification</th>\n",
       "      <th>Hospital_admission</th>\n",
       "    </tr>\n",
       "  </thead>\n",
       "  <tbody>\n",
       "    <tr>\n",
       "      <th>0</th>\n",
       "      <td>3</td>\n",
       "      <td>2022-08-18 00:30:00</td>\n",
       "      <td>2020-02-27</td>\n",
       "      <td>GM0014</td>\n",
       "      <td>Groningen</td>\n",
       "      <td>VR01</td>\n",
       "      <td>Groningen</td>\n",
       "      <td>0</td>\n",
       "      <td>0</td>\n",
       "    </tr>\n",
       "    <tr>\n",
       "      <th>1</th>\n",
       "      <td>3</td>\n",
       "      <td>2022-08-18 00:30:00</td>\n",
       "      <td>2020-02-27</td>\n",
       "      <td>GM0034</td>\n",
       "      <td>Almere</td>\n",
       "      <td>VR25</td>\n",
       "      <td>Flevoland</td>\n",
       "      <td>0</td>\n",
       "      <td>0</td>\n",
       "    </tr>\n",
       "    <tr>\n",
       "      <th>2</th>\n",
       "      <td>3</td>\n",
       "      <td>2022-08-18 00:30:00</td>\n",
       "      <td>2020-02-27</td>\n",
       "      <td>GM0037</td>\n",
       "      <td>Stadskanaal</td>\n",
       "      <td>VR01</td>\n",
       "      <td>Groningen</td>\n",
       "      <td>0</td>\n",
       "      <td>0</td>\n",
       "    </tr>\n",
       "    <tr>\n",
       "      <th>3</th>\n",
       "      <td>3</td>\n",
       "      <td>2022-08-18 00:30:00</td>\n",
       "      <td>2020-02-27</td>\n",
       "      <td>GM0047</td>\n",
       "      <td>Veendam</td>\n",
       "      <td>VR01</td>\n",
       "      <td>Groningen</td>\n",
       "      <td>0</td>\n",
       "      <td>0</td>\n",
       "    </tr>\n",
       "    <tr>\n",
       "      <th>4</th>\n",
       "      <td>3</td>\n",
       "      <td>2022-08-18 00:30:00</td>\n",
       "      <td>2020-02-27</td>\n",
       "      <td>GM0050</td>\n",
       "      <td>Zeewolde</td>\n",
       "      <td>VR25</td>\n",
       "      <td>Flevoland</td>\n",
       "      <td>0</td>\n",
       "      <td>0</td>\n",
       "    </tr>\n",
       "    <tr>\n",
       "      <th>...</th>\n",
       "      <td>...</td>\n",
       "      <td>...</td>\n",
       "      <td>...</td>\n",
       "      <td>...</td>\n",
       "      <td>...</td>\n",
       "      <td>...</td>\n",
       "      <td>...</td>\n",
       "      <td>...</td>\n",
       "      <td>...</td>\n",
       "    </tr>\n",
       "    <tr>\n",
       "      <th>33019</th>\n",
       "      <td>3</td>\n",
       "      <td>2022-08-18 00:30:00</td>\n",
       "      <td>2020-06-01</td>\n",
       "      <td>GM1978</td>\n",
       "      <td>Molenlanden</td>\n",
       "      <td>VR18</td>\n",
       "      <td>Zuid-Holland-Zuid</td>\n",
       "      <td>0</td>\n",
       "      <td>0</td>\n",
       "    </tr>\n",
       "    <tr>\n",
       "      <th>33020</th>\n",
       "      <td>3</td>\n",
       "      <td>2022-08-18 00:30:00</td>\n",
       "      <td>2020-06-01</td>\n",
       "      <td>GM1979</td>\n",
       "      <td>Eemsdelta</td>\n",
       "      <td>VR01</td>\n",
       "      <td>Groningen</td>\n",
       "      <td>0</td>\n",
       "      <td>0</td>\n",
       "    </tr>\n",
       "    <tr>\n",
       "      <th>33021</th>\n",
       "      <td>3</td>\n",
       "      <td>2022-08-18 00:30:00</td>\n",
       "      <td>2020-06-01</td>\n",
       "      <td>GM1980</td>\n",
       "      <td>Dijk en Waard</td>\n",
       "      <td>VR10</td>\n",
       "      <td>Noord-Holland-Noord</td>\n",
       "      <td>0</td>\n",
       "      <td>0</td>\n",
       "    </tr>\n",
       "    <tr>\n",
       "      <th>33022</th>\n",
       "      <td>3</td>\n",
       "      <td>2022-08-18 00:30:00</td>\n",
       "      <td>2020-06-01</td>\n",
       "      <td>GM1982</td>\n",
       "      <td>Land van Cuijk</td>\n",
       "      <td>VR21</td>\n",
       "      <td>Brabant-Noord</td>\n",
       "      <td>0</td>\n",
       "      <td>0</td>\n",
       "    </tr>\n",
       "    <tr>\n",
       "      <th>33023</th>\n",
       "      <td>3</td>\n",
       "      <td>2022-08-18 00:30:00</td>\n",
       "      <td>2020-06-01</td>\n",
       "      <td>GM1991</td>\n",
       "      <td>Maashorst</td>\n",
       "      <td>VR21</td>\n",
       "      <td>Brabant-Noord</td>\n",
       "      <td>0</td>\n",
       "      <td>0</td>\n",
       "    </tr>\n",
       "  </tbody>\n",
       "</table>\n",
       "<p>33024 rows × 9 columns</p>\n",
       "</div>"
      ],
      "text/plain": [
       "       Version       Date_of_report Date_of_statistics Municipality_code  \\\n",
       "0            3  2022-08-18 00:30:00         2020-02-27            GM0014   \n",
       "1            3  2022-08-18 00:30:00         2020-02-27            GM0034   \n",
       "2            3  2022-08-18 00:30:00         2020-02-27            GM0037   \n",
       "3            3  2022-08-18 00:30:00         2020-02-27            GM0047   \n",
       "4            3  2022-08-18 00:30:00         2020-02-27            GM0050   \n",
       "...        ...                  ...                ...               ...   \n",
       "33019        3  2022-08-18 00:30:00         2020-06-01            GM1978   \n",
       "33020        3  2022-08-18 00:30:00         2020-06-01            GM1979   \n",
       "33021        3  2022-08-18 00:30:00         2020-06-01            GM1980   \n",
       "33022        3  2022-08-18 00:30:00         2020-06-01            GM1982   \n",
       "33023        3  2022-08-18 00:30:00         2020-06-01            GM1991   \n",
       "\n",
       "      Municipality_name Security_region_code Security_region_name  \\\n",
       "0             Groningen                 VR01            Groningen   \n",
       "1                Almere                 VR25            Flevoland   \n",
       "2           Stadskanaal                 VR01            Groningen   \n",
       "3               Veendam                 VR01            Groningen   \n",
       "4              Zeewolde                 VR25            Flevoland   \n",
       "...                 ...                  ...                  ...   \n",
       "33019       Molenlanden                 VR18    Zuid-Holland-Zuid   \n",
       "33020         Eemsdelta                 VR01            Groningen   \n",
       "33021     Dijk en Waard                 VR10  Noord-Holland-Noord   \n",
       "33022    Land van Cuijk                 VR21        Brabant-Noord   \n",
       "33023         Maashorst                 VR21        Brabant-Noord   \n",
       "\n",
       "       Hospital_admission_notification  Hospital_admission  \n",
       "0                                    0                   0  \n",
       "1                                    0                   0  \n",
       "2                                    0                   0  \n",
       "3                                    0                   0  \n",
       "4                                    0                   0  \n",
       "...                                ...                 ...  \n",
       "33019                                0                   0  \n",
       "33020                                0                   0  \n",
       "33021                                0                   0  \n",
       "33022                                0                   0  \n",
       "33023                                0                   0  \n",
       "\n",
       "[33024 rows x 9 columns]"
      ]
     },
     "execution_count": 4,
     "metadata": {},
     "output_type": "execute_result"
    }
   ],
   "source": [
    "Loc = np.array(InfDF.Municipality_code)\n",
    "cleanedList = [x for x in range(len(Loc)) if str(Loc[x]) != 'nan']\n",
    "InfDF = InfDF[InfDF.index.isin(cleanedList)]\n",
    "InfDF = InfDF.reset_index(drop=True)\n",
    "InfDF"
   ]
  },
  {
   "cell_type": "code",
   "execution_count": 5,
   "id": "64e80324",
   "metadata": {},
   "outputs": [],
   "source": [
    "daterange = pd.date_range(\"2020-02-27\", \"2020-06-01\")\n",
    "doubling_daterange = pd.date_range(\"2020-03-13\", \"2020-03-28\")"
   ]
  },
  {
   "cell_type": "code",
   "execution_count": 32,
   "id": "5b17b1b0",
   "metadata": {},
   "outputs": [],
   "source": [
    "admissions_per_day = np.zeros(daterange.size)\n",
    "i = 0\n",
    "for single_date in daterange:\n",
    "    date = single_date.strftime(\"%Y-%m-%d\")\n",
    "    admissions = InfDF[InfDF['Date_of_statistics'] == date]['Hospital_admission'].sum()\n",
    "    admissions_per_day[i] = admissions\n",
    "    i = i + 1"
   ]
  },
  {
   "cell_type": "code",
   "execution_count": 8,
   "id": "e182e1b6",
   "metadata": {},
   "outputs": [],
   "source": [
    "admissions_per_day_doubling = np.zeros(doubling_daterange.size)\n",
    "i = 0\n",
    "for single_date in doubling_daterange:\n",
    "    date = single_date.strftime(\"%Y-%m-%d\")\n",
    "    admissions = InfDF[InfDF['Date_of_statistics'] == date]['Hospital_admission'].sum()\n",
    "    admissions_per_day_doubling[i] = admissions\n",
    "    i = i + 1"
   ]
  },
  {
   "cell_type": "code",
   "execution_count": 9,
   "id": "2e42186a",
   "metadata": {},
   "outputs": [
    {
     "data": {
      "text/plain": [
       "[<matplotlib.lines.Line2D at 0x11ed5c310>]"
      ]
     },
     "execution_count": 9,
     "metadata": {},
     "output_type": "execute_result"
    },
    {
     "data": {
      "image/png": "[encoded data removed]",
      "text/plain": [
       "<Figure size 432x288 with 1 Axes>"
      ]
     },
     "metadata": {
      "needs_background": "light"
     },
     "output_type": "display_data"
    }
   ],
   "source": [
    "import matplotlib.pyplot as plt\n",
    "plt.plot(admissions_per_day_doubling)"
   ]
  },
  {
   "cell_type": "code",
   "execution_count": 10,
   "id": "f3ce64b2",
   "metadata": {},
   "outputs": [],
   "source": [
    "local_admission_list = [\"Eindhoven\", \"Groningen\", \"'s-Gravenhage\"]\n",
    "\n",
    "for municipality in local_admission_list:\n",
    "    admissions_per_day_local = np.zeros(daterange.size)\n",
    "    i = 0\n",
    "    for single_date in daterange:\n",
    "        date = single_date.strftime(\"%Y-%m-%d\")\n",
    "        admissions = InfDF[(InfDF['Date_of_statistics'] == date) & (InfDF['Municipality_name'] == municipality)]['Hospital_admission'].sum()\n",
    "        admissions_per_day_local[i] = admissions\n",
    "        i = i + 1\n",
    "    np.savetxt(f\"observed_hospital_admissions_per_day_{municipality.lower()}.csv\", admissions_per_day_local, delimiter=\",\")\n"
   ]
  },
  {
   "cell_type": "code",
   "execution_count": 8,
   "id": "9199ca59",
   "metadata": {},
   "outputs": [
    {
     "data": {
      "text/plain": [
       "[<matplotlib.lines.Line2D at 0x127ac31f0>]"
      ]
     },
     "execution_count": 8,
     "metadata": {},
     "output_type": "execute_result"
    },
    {
     "data": {
      "image/png": "[encoded data removed]",
      "text/plain": [
       "<Figure size 432x288 with 1 Axes>"
      ]
     },
     "metadata": {
      "needs_background": "light"
     },
     "output_type": "display_data"
    }
   ],
   "source": [
    "import matplotlib.pyplot as plt\n",
    "plt.plot(admissions_per_day_eindhoven)"
   ]
  },
  {
   "cell_type": "code",
   "execution_count": 36,
   "id": "c191a205",
   "metadata": {},
   "outputs": [],
   "source": [
    "np.savetxt(\"observed_hospital_admissions_per_day.csv\", admissions_per_day, delimiter=\",\")"
   ]
  },
  {
   "cell_type": "code",
   "execution_count": 10,
   "id": "286f5d3a",
   "metadata": {},
   "outputs": [],
   "source": [
    "np.savetxt(\"observed_hospital_doubling.csv\", admissions_per_day_doubling, delimiter=\",\")"
   ]
  },
  {
   "cell_type": "code",
   "execution_count": 11,
   "id": "d4da3a83",
   "metadata": {},
   "outputs": [
    {
     "data": {
      "text/plain": [
       "array([ 86.,  70.,  89., 166., 160., 217., 305., 298., 246., 277., 504.,\n",
       "       485., 499., 496., 608., 350.])"
      ]
     },
     "execution_count": 11,
     "metadata": {},
     "output_type": "execute_result"
    }
   ],
   "source": [
    "admissions_per_day_doubling"
   ]
  },
  {
   "cell_type": "code",
   "execution_count": null,
   "id": "26fee0af",
   "metadata": {},
   "outputs": [],
   "source": []
  }
 ],
 "metadata": {
  "kernelspec": {
   "display_name": "Python 3 (ipykernel)",
   "language": "python",
   "name": "python3"
  },
  "language_info": {
   "codemirror_mode": {
    "name": "ipython",
    "version": 3
   },
   "file_extension": ".py",
   "mimetype": "text/x-python",
   "name": "python",
   "nbconvert_exporter": "python",
   "pygments_lexer": "ipython3",
   "version": "3.9.17"
  }
 },
 "nbformat": 4,
 "nbformat_minor": 5
}
