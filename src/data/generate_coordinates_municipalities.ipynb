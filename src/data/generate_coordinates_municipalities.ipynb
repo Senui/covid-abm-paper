{
 "cells": [
  {
   "cell_type": "code",
   "execution_count": 8,
   "id": "87f18e83",
   "metadata": {},
   "outputs": [],
   "source": [
    "import googlemaps\n",
    "import json\n",
    "import pandas as pd\n",
    "import time"
   ]
  },
  {
   "cell_type": "markdown",
   "id": "4fe880af",
   "metadata": {},
   "source": [
    "For municipality in list:\n",
    "\n",
    "0. Call google API\n",
    "1. Check if one result is returned\n",
    "2. Convert first element of list to JSON object\n",
    "3. Extract \\['geometry']['location'] to get to \\['lat'] & \\['lng'] values\n",
    "4. Append result as data = [[municipality, lat, lng]] --> result = pd.DataFrame(data, columns='Municipality', 'Lat', 'Lng']"
   ]
  },
  {
   "cell_type": "code",
   "execution_count": 42,
   "id": "850df99e",
   "metadata": {},
   "outputs": [],
   "source": [
    "raw_municipality_data = pd.read_csv(\"Gemeenten2018.csv\");\n",
    "municipalities = raw_municipality_data[[\"Gemeentenaam\"]].Gemeentenaam"
   ]
  },
  {
   "cell_type": "code",
   "execution_count": 45,
   "id": "887fdf54",
   "metadata": {},
   "outputs": [],
   "source": [
    "# raw_data = {}\n",
    "# multiple_responses = {}\n",
    "# data = []\n",
    "# gmaps = googlemaps.Client(key='YOUR_API_KEY')\n",
    "\n",
    "# for m in municipalities:\n",
    "#     geocode_result = gmaps.geocode(f'{m}, the Netherlands')\n",
    "#     raw_data[m] = geocode_result"
   ]
  },
  {
   "cell_type": "code",
   "execution_count": 48,
   "id": "f06e38bf",
   "metadata": {},
   "outputs": [],
   "source": [
    "# with open('raw_google_geocoding_data.json', 'w') as fp:\n",
    "#     json.dump(raw_data, fp)"
   ]
  },
  {
   "cell_type": "code",
   "execution_count": 49,
   "id": "b5cbb175",
   "metadata": {},
   "outputs": [],
   "source": [
    "with open('raw_google_geocoding_data.json', 'r') as fp:\n",
    "    raw_data2 = json.load(fp)"
   ]
  },
  {
   "cell_type": "code",
   "execution_count": 65,
   "id": "fe115cbb",
   "metadata": {},
   "outputs": [],
   "source": [
    "multiple_responses = {}\n",
    "data = []\n",
    "for m in municipalities:\n",
    "    if len(raw_data2[m]) != 1:\n",
    "        multiple_responses[m] = raw_data2[m]\n",
    "    \n",
    "    res_json = raw_data2[m][0]\n",
    "    coord = res_json['geometry']['location']\n",
    "    data.append([m, coord['lat'], coord['lng']])"
   ]
  },
  {
   "cell_type": "code",
   "execution_count": 66,
   "id": "7f7053e1",
   "metadata": {},
   "outputs": [],
   "source": [
    "result = pd.DataFrame(data, columns=['Municipality', 'Lat', 'Lng'])"
   ]
  },
  {
   "cell_type": "code",
   "execution_count": 71,
   "id": "ac740fcd",
   "metadata": {},
   "outputs": [],
   "source": [
    "result.to_csv(\"municipalities_coordinates_2018.csv\", index=False)"
   ]
  },
  {
   "cell_type": "code",
   "execution_count": 75,
   "id": "f35a12df",
   "metadata": {},
   "outputs": [
    {
     "data": {
      "text/html": [
       "<div>\n",
       "<style scoped>\n",
       "    .dataframe tbody tr th:only-of-type {\n",
       "        vertical-align: middle;\n",
       "    }\n",
       "\n",
       "    .dataframe tbody tr th {\n",
       "        vertical-align: top;\n",
       "    }\n",
       "\n",
       "    .dataframe thead th {\n",
       "        text-align: right;\n",
       "    }\n",
       "</style>\n",
       "<table border=\"1\" class=\"dataframe\">\n",
       "  <thead>\n",
       "    <tr style=\"text-align: right;\">\n",
       "      <th></th>\n",
       "      <th>Municipality</th>\n",
       "      <th>Lat</th>\n",
       "      <th>Lng</th>\n",
       "    </tr>\n",
       "  </thead>\n",
       "  <tbody>\n",
       "    <tr>\n",
       "      <th>69</th>\n",
       "      <td>Delft</td>\n",
       "      <td>52.011577</td>\n",
       "      <td>4.357068</td>\n",
       "    </tr>\n",
       "  </tbody>\n",
       "</table>\n",
       "</div>"
      ],
      "text/plain": [
       "   Municipality        Lat       Lng\n",
       "69        Delft  52.011577  4.357068"
      ]
     },
     "execution_count": 75,
     "metadata": {},
     "output_type": "execute_result"
    }
   ],
   "source": [
    "result.loc[result['Municipality'] == \"Delft\"]"
   ]
  },
  {
   "cell_type": "code",
   "execution_count": 76,
   "id": "dfe00c18",
   "metadata": {},
   "outputs": [
    {
     "data": {
      "text/html": [
       "<div>\n",
       "<style scoped>\n",
       "    .dataframe tbody tr th:only-of-type {\n",
       "        vertical-align: middle;\n",
       "    }\n",
       "\n",
       "    .dataframe tbody tr th {\n",
       "        vertical-align: top;\n",
       "    }\n",
       "\n",
       "    .dataframe thead th {\n",
       "        text-align: right;\n",
       "    }\n",
       "</style>\n",
       "<table border=\"1\" class=\"dataframe\">\n",
       "  <thead>\n",
       "    <tr style=\"text-align: right;\">\n",
       "      <th></th>\n",
       "      <th>Municipality</th>\n",
       "      <th>Lat</th>\n",
       "      <th>Lng</th>\n",
       "    </tr>\n",
       "  </thead>\n",
       "  <tbody>\n",
       "    <tr>\n",
       "      <th>371</th>\n",
       "      <td>Zoetermeer</td>\n",
       "      <td>52.060669</td>\n",
       "      <td>4.494025</td>\n",
       "    </tr>\n",
       "  </tbody>\n",
       "</table>\n",
       "</div>"
      ],
      "text/plain": [
       "    Municipality        Lat       Lng\n",
       "371   Zoetermeer  52.060669  4.494025"
      ]
     },
     "execution_count": 76,
     "metadata": {},
     "output_type": "execute_result"
    }
   ],
   "source": [
    "result.loc[result['Municipality'] == \"Zoetermeer\"]"
   ]
  },
  {
   "cell_type": "code",
   "execution_count": 77,
   "id": "e524b56e",
   "metadata": {},
   "outputs": [
    {
     "data": {
      "text/plain": [
       "Municipality    Amsterdam\n",
       "Lat             52.367573\n",
       "Lng              4.904139\n",
       "Name: 15, dtype: object"
      ]
     },
     "execution_count": 77,
     "metadata": {},
     "output_type": "execute_result"
    }
   ],
   "source": [
    "result.iloc[15]"
   ]
  },
  {
   "cell_type": "code",
   "execution_count": null,
   "id": "f93eb286",
   "metadata": {},
   "outputs": [],
   "source": []
  }
 ],
 "metadata": {
  "kernelspec": {
   "display_name": "Python 3",
   "language": "python",
   "name": "python3"
  },
  "language_info": {
   "codemirror_mode": {
    "name": "ipython",
    "version": 3
   },
   "file_extension": ".py",
   "mimetype": "text/x-python",
   "name": "python",
   "nbconvert_exporter": "python",
   "pygments_lexer": "ipython3",
   "version": "3.9.1"
  }
 },
 "nbformat": 4,
 "nbformat_minor": 5
}
