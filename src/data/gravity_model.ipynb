{
 "cells": [
  {
   "cell_type": "markdown",
   "id": "142018a1",
   "metadata": {},
   "source": [
    "## Description\n",
    "This notebook creates the mobility matrices (frequent travelers and incidental travelers) that are used in the COVID-19 model. The mobility matrices follow the gravity model for mobility, where the likeliness of traveling from municipality A to B is directly proportional to the municipalities' population and inversely proportional to the distance between the municipalities."
   ]
  },
  {
   "cell_type": "code",
   "execution_count": 2,
   "id": "c9e7d477",
   "metadata": {},
   "outputs": [],
   "source": [
    "import pandas as pd\n",
    "import numpy as np\n",
    "from geopy import distance\n",
    "import math\n",
    "import matplotlib.pyplot as plt"
   ]
  },
  {
   "cell_type": "code",
   "execution_count": 3,
   "id": "5e5b7a61",
   "metadata": {},
   "outputs": [],
   "source": [
    "raw_municipality_data = pd.read_csv(\"Gemeenten2018.csv\");\n",
    "municipality_list = raw_municipality_data[[\"Gemeentenaam\", \"Gemeentecode\"]]"
   ]
  },
  {
   "cell_type": "code",
   "execution_count": 4,
   "id": "a337847b",
   "metadata": {},
   "outputs": [
    {
     "data": {
      "text/plain": [
       "760"
      ]
     },
     "execution_count": 4,
     "metadata": {},
     "output_type": "execute_result"
    }
   ],
   "source": [
    "municipality_list.size"
   ]
  },
  {
   "cell_type": "code",
   "execution_count": 5,
   "id": "f3e0c9e8",
   "metadata": {},
   "outputs": [],
   "source": [
    "population = pd.read_csv(\"Regionale_kerncijfers_Nederland_22072022_132648.csv\", sep=';')[[\"Regio's\", \"aantal\"]]"
   ]
  },
  {
   "cell_type": "code",
   "execution_count": 6,
   "id": "6a24ce7b",
   "metadata": {},
   "outputs": [],
   "source": [
    "population.dropna(inplace=True)"
   ]
  },
  {
   "cell_type": "code",
   "execution_count": 7,
   "id": "4434dc9d",
   "metadata": {},
   "outputs": [],
   "source": [
    "population.aantal = population.aantal.astype(int)"
   ]
  },
  {
   "cell_type": "code",
   "execution_count": 8,
   "id": "5d71e251",
   "metadata": {},
   "outputs": [],
   "source": [
    "# Replace municipality names with the ones from Gemeenten2018.csv (the vary slightly)\n",
    "population[\"Regio's\"] = municipality_list.Gemeentenaam.values"
   ]
  },
  {
   "cell_type": "code",
   "execution_count": 9,
   "id": "53a794c1",
   "metadata": {},
   "outputs": [],
   "source": [
    "population.to_csv(\"inwoners_gemeente_2018.csv\",index=False)"
   ]
  },
  {
   "cell_type": "code",
   "execution_count": 10,
   "id": "c98c5614",
   "metadata": {},
   "outputs": [
    {
     "data": {
      "text/html": [
       "<div>\n",
       "<style scoped>\n",
       "    .dataframe tbody tr th:only-of-type {\n",
       "        vertical-align: middle;\n",
       "    }\n",
       "\n",
       "    .dataframe tbody tr th {\n",
       "        vertical-align: top;\n",
       "    }\n",
       "\n",
       "    .dataframe thead th {\n",
       "        text-align: right;\n",
       "    }\n",
       "</style>\n",
       "<table border=\"1\" class=\"dataframe\">\n",
       "  <thead>\n",
       "    <tr style=\"text-align: right;\">\n",
       "      <th></th>\n",
       "      <th>Regio's</th>\n",
       "      <th>aantal</th>\n",
       "    </tr>\n",
       "  </thead>\n",
       "  <tbody>\n",
       "    <tr>\n",
       "      <th>0</th>\n",
       "      <td>Aa en Hunze</td>\n",
       "      <td>25390</td>\n",
       "    </tr>\n",
       "    <tr>\n",
       "      <th>1</th>\n",
       "      <td>Aalburg</td>\n",
       "      <td>13153</td>\n",
       "    </tr>\n",
       "    <tr>\n",
       "      <th>2</th>\n",
       "      <td>Aalsmeer</td>\n",
       "      <td>31499</td>\n",
       "    </tr>\n",
       "    <tr>\n",
       "      <th>3</th>\n",
       "      <td>Aalten</td>\n",
       "      <td>26962</td>\n",
       "    </tr>\n",
       "    <tr>\n",
       "      <th>7</th>\n",
       "      <td>Achtkarspelen</td>\n",
       "      <td>27935</td>\n",
       "    </tr>\n",
       "    <tr>\n",
       "      <th>...</th>\n",
       "      <td>...</td>\n",
       "      <td>...</td>\n",
       "    </tr>\n",
       "    <tr>\n",
       "      <th>719</th>\n",
       "      <td>Zundert</td>\n",
       "      <td>21525</td>\n",
       "    </tr>\n",
       "    <tr>\n",
       "      <th>720</th>\n",
       "      <td>Zutphen</td>\n",
       "      <td>47537</td>\n",
       "    </tr>\n",
       "    <tr>\n",
       "      <th>721</th>\n",
       "      <td>Zwartewaterland</td>\n",
       "      <td>22468</td>\n",
       "    </tr>\n",
       "    <tr>\n",
       "      <th>724</th>\n",
       "      <td>Zwijndrecht</td>\n",
       "      <td>44586</td>\n",
       "    </tr>\n",
       "    <tr>\n",
       "      <th>725</th>\n",
       "      <td>Zwolle</td>\n",
       "      <td>126116</td>\n",
       "    </tr>\n",
       "  </tbody>\n",
       "</table>\n",
       "<p>380 rows × 2 columns</p>\n",
       "</div>"
      ],
      "text/plain": [
       "             Regio's  aantal\n",
       "0        Aa en Hunze   25390\n",
       "1            Aalburg   13153\n",
       "2           Aalsmeer   31499\n",
       "3             Aalten   26962\n",
       "7      Achtkarspelen   27935\n",
       "..               ...     ...\n",
       "719          Zundert   21525\n",
       "720          Zutphen   47537\n",
       "721  Zwartewaterland   22468\n",
       "724      Zwijndrecht   44586\n",
       "725           Zwolle  126116\n",
       "\n",
       "[380 rows x 2 columns]"
      ]
     },
     "execution_count": 10,
     "metadata": {},
     "output_type": "execute_result"
    }
   ],
   "source": [
    "population"
   ]
  },
  {
   "cell_type": "code",
   "execution_count": 11,
   "id": "045e451b",
   "metadata": {},
   "outputs": [],
   "source": [
    "municipalities_coordinates = pd.read_csv(\"municipalities_coordinates_2018.csv\");"
   ]
  },
  {
   "cell_type": "code",
   "execution_count": 12,
   "id": "992f6843",
   "metadata": {},
   "outputs": [
    {
     "data": {
      "text/plain": [
       "True"
      ]
     },
     "execution_count": 12,
     "metadata": {},
     "output_type": "execute_result"
    }
   ],
   "source": [
    "# Check if the municipality names match\n",
    "municipalities_coordinates.Municipality.reset_index(drop=True).equals(population[\"Regio's\"].reset_index(drop=True))"
   ]
  },
  {
   "cell_type": "code",
   "execution_count": 13,
   "id": "773af1dc",
   "metadata": {},
   "outputs": [],
   "source": [
    "# Create distance matrix using the coordinates\n",
    "length = len(municipalities_coordinates)\n",
    "distance_matrix = np.zeros((length, length))\n",
    "for index_a, row_a in municipalities_coordinates.iterrows():\n",
    "    for index_b, row_b in municipalities_coordinates.iterrows():\n",
    "        coord_a = (row_a['Lat'], row_a['Lng'])\n",
    "        coord_b = (row_b['Lat'], row_b['Lng'])\n",
    "        dist = distance.distance(coord_a, coord_b).km\n",
    "        distance_matrix[index_a, index_b] = dist"
   ]
  },
  {
   "cell_type": "code",
   "execution_count": 14,
   "id": "11e64aed",
   "metadata": {},
   "outputs": [],
   "source": [
    "# Create M_freq and M_inc\n",
    "# For M_freq(i,j) = 0.5 * (P(i) * P(j))/ D(i,j)\n",
    "M_freq = np.zeros((length, length))\n",
    "M_inc = np.zeros((length, length))\n",
    "for index_a, row_a in municipalities_coordinates.iterrows():\n",
    "    for index_b, row_b in municipalities_coordinates.iterrows():\n",
    "        # Going from location A to location A\n",
    "        if (math.isclose(distance_matrix[index_a, index_b], 0, rel_tol=1e-5)):\n",
    "            dist = 1\n",
    "        else:\n",
    "            dist = distance_matrix[index_a, index_b]\n",
    "        M_freq[index_a, index_b] = 0.5*(population.iloc[index_a]['aantal'] * population.iloc[index_b]['aantal'])/(dist**1)\n",
    "        M_inc[index_a, index_b] = (1/7)*(population.iloc[index_a]['aantal'] * population.iloc[index_b]['aantal'])/(dist**0.5)"
   ]
  },
  {
   "cell_type": "code",
   "execution_count": 15,
   "id": "2cebc159",
   "metadata": {},
   "outputs": [
    {
     "data": {
      "text/plain": [
       "True"
      ]
     },
     "execution_count": 15,
     "metadata": {},
     "output_type": "execute_result"
    }
   ],
   "source": [
    "# Verify that matrices are symmetrical\n",
    "np.allclose(M_freq, M_freq.T, rtol=1e-8, atol=1e-8)"
   ]
  },
  {
   "cell_type": "code",
   "execution_count": 16,
   "id": "1cb1750c",
   "metadata": {},
   "outputs": [
    {
     "data": {
      "text/plain": [
       "True"
      ]
     },
     "execution_count": 16,
     "metadata": {},
     "output_type": "execute_result"
    }
   ],
   "source": [
    "np.allclose(M_inc, M_inc.T, rtol=1e-8, atol=1e-8)"
   ]
  },
  {
   "cell_type": "code",
   "execution_count": 17,
   "id": "3746ccec",
   "metadata": {},
   "outputs": [
    {
     "data": {
      "text/plain": [
       "(array([14., 26., 43., 47., 49., 35., 52., 31., 34., 22., 11., 12.,  0.,\n",
       "         0.,  0.,  0.,  1.,  0.,  0.,  0.,  0.,  1.,  0.,  0.,  0.,  1.,\n",
       "         0.,  0.,  0.,  1.]),\n",
       " array([ 61366.99924736,  78806.54955344,  96246.09985952, 113685.65016561,\n",
       "        131125.20047169, 148564.75077777, 166004.30108386, 183443.85138994,\n",
       "        200883.40169602, 218322.95200211, 235762.50230819, 253202.05261427,\n",
       "        270641.60292035, 288081.15322644, 305520.70353252, 322960.2538386 ,\n",
       "        340399.80414469, 357839.35445077, 375278.90475685, 392718.45506294,\n",
       "        410158.00536902, 427597.5556751 , 445037.10598119, 462476.65628727,\n",
       "        479916.20659335, 497355.75689944, 514795.30720552, 532234.8575116 ,\n",
       "        549674.40781769, 567113.95812377, 584553.50842985]),\n",
       " <BarContainer object of 30 artists>)"
      ]
     },
     "execution_count": 17,
     "metadata": {},
     "output_type": "execute_result"
    },
    {
     "data": {
      "image/png": "[encoded data removed]",
      "text/plain": [
       "<Figure size 432x288 with 1 Axes>"
      ]
     },
     "metadata": {
      "needs_background": "light"
     },
     "output_type": "display_data"
    }
   ],
   "source": [
    "rowsum_freq = np.sum(M_freq, axis=0) / np.array(population['aantal'])\n",
    "plt.hist(rowsum_freq, bins=30)"
   ]
  },
  {
   "cell_type": "code",
   "execution_count": 18,
   "id": "29ccd3aa",
   "metadata": {},
   "outputs": [
    {
     "data": {
      "text/plain": [
       "(array([ 9.,  8.,  9., 19., 18., 14., 17., 14., 12., 15., 19., 22., 21.,\n",
       "        17., 17., 24., 19., 26., 19., 23., 27.,  7.,  0.,  0.,  2.,  0.,\n",
       "         0.,  1.,  0.,  1.]),\n",
       " array([198908.44433073, 206465.30990364, 214022.17547655, 221579.04104946,\n",
       "        229135.90662237, 236692.77219528, 244249.63776819, 251806.5033411 ,\n",
       "        259363.36891401, 266920.23448692, 274477.10005983, 282033.96563274,\n",
       "        289590.83120565, 297147.69677856, 304704.56235147, 312261.42792438,\n",
       "        319818.29349729, 327375.1590702 , 334932.02464311, 342488.89021601,\n",
       "        350045.75578892, 357602.62136183, 365159.48693474, 372716.35250765,\n",
       "        380273.21808056, 387830.08365347, 395386.94922638, 402943.81479929,\n",
       "        410500.6803722 , 418057.54594511, 425614.41151802]),\n",
       " <BarContainer object of 30 artists>)"
      ]
     },
     "execution_count": 18,
     "metadata": {},
     "output_type": "execute_result"
    },
    {
     "data": {
      "image/png": "[encoded data removed]",
      "text/plain": [
       "<Figure size 432x288 with 1 Axes>"
      ]
     },
     "metadata": {
      "needs_background": "light"
     },
     "output_type": "display_data"
    }
   ],
   "source": [
    "rowsum_inc = np.sum(M_inc, axis=0) / np.array(population['aantal'])\n",
    "plt.hist(rowsum_inc, bins=30)"
   ]
  },
  {
   "cell_type": "code",
   "execution_count": 170,
   "id": "0de604d9",
   "metadata": {},
   "outputs": [
    {
     "name": "stdout",
     "output_type": "stream",
     "text": [
      "333\n"
     ]
    },
    {
     "data": {
      "image/png": "[encoded data removed]",
      "text/plain": [
       "<Figure size 432x288 with 1 Axes>"
      ]
     },
     "metadata": {
      "needs_background": "light"
     },
     "output_type": "display_data"
    }
   ],
   "source": [
    "# Amstelveen 14, Voorst 333\n",
    "# r = 333\n",
    "# lst = np.copy(M_freq[r])\n",
    "# lst = lst / population.iloc[r][\"aantal\"]\n",
    "# # lst[r] = 1\n",
    "# lst = 2.5*lst / np.sum(lst)\n",
    "# locations = np.zeros(380)\n",
    "# for i in range(0, 1000):\n",
    "#     fs = np.array(np.random.dirichlet(lst))\n",
    "#     max_index = max(range(len(fs)), key=fs.__getitem__)\n",
    "#     locations[max_index] = locations[max_index] + 1\n",
    "\n",
    "import matplotlib.pyplot as plt\n",
    "# print(max(range(len(fs)), key=fs.__getitem__))\n",
    "plt.plot(fs)\n",
    "plt.savefig('/tmp/voorst_dirichlet_draw.svg', format='svg')\n",
    "# plt.plot(locations)\n",
    "print(max(range(len(locations)), key=locations.__getitem__))"
   ]
  },
  {
   "cell_type": "code",
   "execution_count": 167,
   "id": "6f991b8e",
   "metadata": {},
   "outputs": [],
   "source": [
    "hs = np.round(fs*24, 0)\n",
    "# hs = hs / np.sum(hs) * 24\n",
    "hs = hs.astype(int)"
   ]
  },
  {
   "cell_type": "code",
   "execution_count": 168,
   "id": "894289ae",
   "metadata": {},
   "outputs": [
    {
     "data": {
      "text/plain": [
       "array([0, 0, 0, 0, 0, 0, 0, 0, 0, 0, 0, 0, 0, 0, 0, 0, 0, 0, 0, 0, 0, 0,\n",
       "       0, 0, 0, 0, 0, 0, 0, 0, 0, 0, 0, 0, 0, 0, 0, 0, 0, 0, 0, 0, 0, 0,\n",
       "       0, 0, 0, 0, 0, 0, 0, 0, 0, 0, 0, 0, 0, 0, 0, 0, 0, 0, 0, 0, 0, 0,\n",
       "       0, 0, 0, 0, 0, 0, 1, 0, 0, 0, 0, 4, 0, 0, 0, 0, 0, 0, 0, 0, 0, 0,\n",
       "       0, 0, 0, 0, 0, 0, 0, 0, 0, 0, 0, 0, 0, 1, 0, 0, 0, 0, 0, 0, 0, 0,\n",
       "       0, 0, 3, 0, 0, 0, 0, 0, 0, 0, 0, 0, 0, 0, 0, 0, 0, 0, 0, 0, 0, 0,\n",
       "       0, 0, 0, 0, 0, 0, 0, 0, 0, 0, 0, 0, 0, 0, 0, 0, 0, 0, 0, 0, 0, 0,\n",
       "       0, 0, 0, 0, 0, 0, 0, 0, 0, 0, 0, 0, 0, 0, 0, 0, 0, 0, 0, 0, 0, 0,\n",
       "       0, 0, 0, 0, 0, 0, 0, 0, 0, 0, 0, 0, 0, 0, 0, 0, 0, 0, 0, 0, 0, 0,\n",
       "       0, 0, 0, 0, 0, 0, 0, 0, 0, 0, 0, 0, 0, 0, 0, 0, 0, 0, 0, 0, 0, 0,\n",
       "       0, 0, 0, 0, 0, 0, 0, 0, 0, 0, 0, 0, 0, 0, 0, 0, 0, 0, 0, 0, 0, 0,\n",
       "       0, 0, 0, 0, 0, 0, 0, 0, 0, 0, 0, 0, 0, 0, 0, 0, 0, 0, 0, 0, 0, 0,\n",
       "       0, 0, 1, 0, 0, 0, 0, 0, 0, 0, 0, 0, 0, 0, 0, 0, 0, 0, 0, 0, 0, 0,\n",
       "       0, 0, 0, 0, 0, 0, 0, 0, 0, 0, 0, 0, 0, 0, 0, 0, 0, 0, 0, 1, 0, 0,\n",
       "       0, 0, 0, 0, 0, 0, 0, 0, 0, 0, 0, 0, 0, 0, 0, 0, 0, 0, 0, 0, 0, 0,\n",
       "       0, 0, 0, 4, 0, 0, 0, 0, 0, 0, 0, 0, 0, 0, 0, 0, 0, 0, 0, 0, 0, 0,\n",
       "       0, 0, 0, 0, 0, 0, 0, 0, 0, 0, 0, 0, 0, 0, 0, 0, 0, 0, 0, 0, 0, 0,\n",
       "       0, 0, 8, 0, 0, 0])"
      ]
     },
     "execution_count": 168,
     "metadata": {},
     "output_type": "execute_result"
    }
   ],
   "source": [
    "hs"
   ]
  },
  {
   "cell_type": "code",
   "execution_count": 21,
   "id": "244175d3",
   "metadata": {},
   "outputs": [],
   "source": [
    "# M_inc_norm = normalize(M_inc, axis=0, norm='l1')"
   ]
  },
  {
   "cell_type": "code",
   "execution_count": 22,
   "id": "c3664cc8",
   "metadata": {},
   "outputs": [],
   "source": [
    "# np.savetxt(\"M_inc.csv\", M_inc, delimiter=\",\")\n",
    "# np.savetxt(\"M_freq.csv\", M_freq, delimiter=\",\")"
   ]
  }
 ],
 "metadata": {
  "kernelspec": {
   "display_name": "Python 3 (ipykernel)",
   "language": "python",
   "name": "python3"
  },
  "language_info": {
   "codemirror_mode": {
    "name": "ipython",
    "version": 3
   },
   "file_extension": ".py",
   "mimetype": "text/x-python",
   "name": "python",
   "nbconvert_exporter": "python",
   "pygments_lexer": "ipython3",
   "version": "3.9.15"
  }
 },
 "nbformat": 4,
 "nbformat_minor": 5
}
