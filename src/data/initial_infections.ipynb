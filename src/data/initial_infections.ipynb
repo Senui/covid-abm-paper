{
 "cells": [
  {
   "cell_type": "code",
   "execution_count": 1,
   "id": "0a010910",
   "metadata": {},
   "outputs": [],
   "source": [
    "import numpy as np\n",
    "import pandas as pd\n",
    "import matplotlib.pyplot as plt"
   ]
  },
  {
   "cell_type": "code",
   "execution_count": 2,
   "id": "b25b8502",
   "metadata": {},
   "outputs": [
    {
     "name": "stdout",
     "output_type": "stream",
     "text": [
      "521 out of 179745 were nan values, and thus removed from Loc\n"
     ]
    },
    {
     "data": {
      "text/html": [
       "<div>\n",
       "<style scoped>\n",
       "    .dataframe tbody tr th:only-of-type {\n",
       "        vertical-align: middle;\n",
       "    }\n",
       "\n",
       "    .dataframe tbody tr th {\n",
       "        vertical-align: top;\n",
       "    }\n",
       "\n",
       "    .dataframe thead th {\n",
       "        text-align: right;\n",
       "    }\n",
       "</style>\n",
       "<table border=\"1\" class=\"dataframe\">\n",
       "  <thead>\n",
       "    <tr style=\"text-align: right;\">\n",
       "      <th></th>\n",
       "      <th>Version</th>\n",
       "      <th>Date_of_report</th>\n",
       "      <th>Date_of_statistics</th>\n",
       "      <th>Municipality_code</th>\n",
       "      <th>Municipality_name</th>\n",
       "      <th>Security_region_code</th>\n",
       "      <th>Security_region_name</th>\n",
       "      <th>Hospital_admission_notification</th>\n",
       "      <th>Hospital_admission</th>\n",
       "    </tr>\n",
       "  </thead>\n",
       "  <tbody>\n",
       "    <tr>\n",
       "      <th>0</th>\n",
       "      <td>3</td>\n",
       "      <td>2022-08-18 00:30:00</td>\n",
       "      <td>2020-02-27</td>\n",
       "      <td>GM0014</td>\n",
       "      <td>Groningen</td>\n",
       "      <td>VR01</td>\n",
       "      <td>Groningen</td>\n",
       "      <td>0</td>\n",
       "      <td>0</td>\n",
       "    </tr>\n",
       "    <tr>\n",
       "      <th>1</th>\n",
       "      <td>3</td>\n",
       "      <td>2022-08-18 00:30:00</td>\n",
       "      <td>2020-02-27</td>\n",
       "      <td>GM0034</td>\n",
       "      <td>Almere</td>\n",
       "      <td>VR25</td>\n",
       "      <td>Flevoland</td>\n",
       "      <td>0</td>\n",
       "      <td>0</td>\n",
       "    </tr>\n",
       "    <tr>\n",
       "      <th>2</th>\n",
       "      <td>3</td>\n",
       "      <td>2022-08-18 00:30:00</td>\n",
       "      <td>2020-02-27</td>\n",
       "      <td>GM0037</td>\n",
       "      <td>Stadskanaal</td>\n",
       "      <td>VR01</td>\n",
       "      <td>Groningen</td>\n",
       "      <td>0</td>\n",
       "      <td>0</td>\n",
       "    </tr>\n",
       "    <tr>\n",
       "      <th>3</th>\n",
       "      <td>3</td>\n",
       "      <td>2022-08-18 00:30:00</td>\n",
       "      <td>2020-02-27</td>\n",
       "      <td>GM0047</td>\n",
       "      <td>Veendam</td>\n",
       "      <td>VR01</td>\n",
       "      <td>Groningen</td>\n",
       "      <td>0</td>\n",
       "      <td>0</td>\n",
       "    </tr>\n",
       "    <tr>\n",
       "      <th>4</th>\n",
       "      <td>3</td>\n",
       "      <td>2022-08-18 00:30:00</td>\n",
       "      <td>2020-02-27</td>\n",
       "      <td>GM0050</td>\n",
       "      <td>Zeewolde</td>\n",
       "      <td>VR25</td>\n",
       "      <td>Flevoland</td>\n",
       "      <td>0</td>\n",
       "      <td>0</td>\n",
       "    </tr>\n",
       "    <tr>\n",
       "      <th>...</th>\n",
       "      <td>...</td>\n",
       "      <td>...</td>\n",
       "      <td>...</td>\n",
       "      <td>...</td>\n",
       "      <td>...</td>\n",
       "      <td>...</td>\n",
       "      <td>...</td>\n",
       "      <td>...</td>\n",
       "      <td>...</td>\n",
       "    </tr>\n",
       "    <tr>\n",
       "      <th>179219</th>\n",
       "      <td>3</td>\n",
       "      <td>2022-08-18 00:30:00</td>\n",
       "      <td>2021-07-31</td>\n",
       "      <td>GM1978</td>\n",
       "      <td>Molenlanden</td>\n",
       "      <td>VR18</td>\n",
       "      <td>Zuid-Holland-Zuid</td>\n",
       "      <td>0</td>\n",
       "      <td>0</td>\n",
       "    </tr>\n",
       "    <tr>\n",
       "      <th>179220</th>\n",
       "      <td>3</td>\n",
       "      <td>2022-08-18 00:30:00</td>\n",
       "      <td>2021-07-31</td>\n",
       "      <td>GM1979</td>\n",
       "      <td>Eemsdelta</td>\n",
       "      <td>VR01</td>\n",
       "      <td>Groningen</td>\n",
       "      <td>0</td>\n",
       "      <td>0</td>\n",
       "    </tr>\n",
       "    <tr>\n",
       "      <th>179221</th>\n",
       "      <td>3</td>\n",
       "      <td>2022-08-18 00:30:00</td>\n",
       "      <td>2021-07-31</td>\n",
       "      <td>GM1980</td>\n",
       "      <td>Dijk en Waard</td>\n",
       "      <td>VR10</td>\n",
       "      <td>Noord-Holland-Noord</td>\n",
       "      <td>0</td>\n",
       "      <td>0</td>\n",
       "    </tr>\n",
       "    <tr>\n",
       "      <th>179222</th>\n",
       "      <td>3</td>\n",
       "      <td>2022-08-18 00:30:00</td>\n",
       "      <td>2021-07-31</td>\n",
       "      <td>GM1982</td>\n",
       "      <td>Land van Cuijk</td>\n",
       "      <td>VR21</td>\n",
       "      <td>Brabant-Noord</td>\n",
       "      <td>0</td>\n",
       "      <td>1</td>\n",
       "    </tr>\n",
       "    <tr>\n",
       "      <th>179223</th>\n",
       "      <td>3</td>\n",
       "      <td>2022-08-18 00:30:00</td>\n",
       "      <td>2021-07-31</td>\n",
       "      <td>GM1991</td>\n",
       "      <td>Maashorst</td>\n",
       "      <td>VR21</td>\n",
       "      <td>Brabant-Noord</td>\n",
       "      <td>0</td>\n",
       "      <td>0</td>\n",
       "    </tr>\n",
       "  </tbody>\n",
       "</table>\n",
       "<p>179224 rows × 9 columns</p>\n",
       "</div>"
      ],
      "text/plain": [
       "        Version       Date_of_report Date_of_statistics Municipality_code  \\\n",
       "0             3  2022-08-18 00:30:00         2020-02-27            GM0014   \n",
       "1             3  2022-08-18 00:30:00         2020-02-27            GM0034   \n",
       "2             3  2022-08-18 00:30:00         2020-02-27            GM0037   \n",
       "3             3  2022-08-18 00:30:00         2020-02-27            GM0047   \n",
       "4             3  2022-08-18 00:30:00         2020-02-27            GM0050   \n",
       "...         ...                  ...                ...               ...   \n",
       "179219        3  2022-08-18 00:30:00         2021-07-31            GM1978   \n",
       "179220        3  2022-08-18 00:30:00         2021-07-31            GM1979   \n",
       "179221        3  2022-08-18 00:30:00         2021-07-31            GM1980   \n",
       "179222        3  2022-08-18 00:30:00         2021-07-31            GM1982   \n",
       "179223        3  2022-08-18 00:30:00         2021-07-31            GM1991   \n",
       "\n",
       "       Municipality_name Security_region_code Security_region_name  \\\n",
       "0              Groningen                 VR01            Groningen   \n",
       "1                 Almere                 VR25            Flevoland   \n",
       "2            Stadskanaal                 VR01            Groningen   \n",
       "3                Veendam                 VR01            Groningen   \n",
       "4               Zeewolde                 VR25            Flevoland   \n",
       "...                  ...                  ...                  ...   \n",
       "179219       Molenlanden                 VR18    Zuid-Holland-Zuid   \n",
       "179220         Eemsdelta                 VR01            Groningen   \n",
       "179221     Dijk en Waard                 VR10  Noord-Holland-Noord   \n",
       "179222    Land van Cuijk                 VR21        Brabant-Noord   \n",
       "179223         Maashorst                 VR21        Brabant-Noord   \n",
       "\n",
       "        Hospital_admission_notification  Hospital_admission  \n",
       "0                                     0                   0  \n",
       "1                                     0                   0  \n",
       "2                                     0                   0  \n",
       "3                                     0                   0  \n",
       "4                                     0                   0  \n",
       "...                                 ...                 ...  \n",
       "179219                                0                   0  \n",
       "179220                                0                   0  \n",
       "179221                                0                   0  \n",
       "179222                                0                   1  \n",
       "179223                                0                   0  \n",
       "\n",
       "[179224 rows x 9 columns]"
      ]
     },
     "execution_count": 2,
     "metadata": {},
     "output_type": "execute_result"
    }
   ],
   "source": [
    "InfDF = pd.read_csv(\"~/cbs-covid/src/data/COVID-19_ziekenhuisopnames.csv\", delimiter=';')\n",
    " # filter data till august 2021, so it matches the data available when the paper was published\n",
    "InfDF = InfDF[(InfDF['Date_of_statistics'] < '2021-08-01')]\n",
    "Loc = np.array(InfDF.Municipality_code)\n",
    "cleanedList = [x for x in range(len(Loc)) if str(Loc[x]) != 'nan']\n",
    "print(f\"{len(Loc) - len(cleanedList)} out of {len(Loc)} were nan values, and thus removed from Loc\")\n",
    "InfDF = InfDF[InfDF.index.isin(cleanedList)]\n",
    "InfDF = InfDF.reset_index(drop=True)\n",
    "Loc = np.array(InfDF.Municipality_name)\n",
    "InfDF"
   ]
  },
  {
   "cell_type": "code",
   "execution_count": 3,
   "id": "c6609809",
   "metadata": {},
   "outputs": [],
   "source": [
    "Day = np.array(pd.to_datetime(InfDF.Date_of_statistics\n",
    "                              ).dt.day)\n",
    "Month = np.array(pd.to_datetime(InfDF.Date_of_statistics\n",
    "                                ).dt.month)\n",
    "Year = np.array(pd.to_datetime(InfDF.Date_of_statistics\n",
    "                               ).dt.year)-2020"
   ]
  },
  {
   "cell_type": "code",
   "execution_count": 4,
   "id": "796999ed",
   "metadata": {},
   "outputs": [
    {
     "data": {
      "text/plain": [
       "array([27, 27, 27, ..., 31, 31, 31])"
      ]
     },
     "execution_count": 4,
     "metadata": {},
     "output_type": "execute_result"
    }
   ],
   "source": [
    "Day"
   ]
  },
  {
   "cell_type": "code",
   "execution_count": 5,
   "id": "efc42704",
   "metadata": {},
   "outputs": [
    {
     "data": {
      "text/plain": [
       "array([  0,  31,  60,  91, 121, 152, 182, 213, 244, 274, 305, 335, 366,\n",
       "       397, 425, 456, 486, 517, 547, 578])"
      ]
     },
     "execution_count": 5,
     "metadata": {},
     "output_type": "execute_result"
    }
   ],
   "source": [
    "mondays = np.array([0, 31, 29, 31, 30, 31, 30, 31, 31, 30, 31, 30,\n",
    "                    31, 31, 28, 31, 30, 31, 30, 31])\n",
    "cumdays = np.cumsum(mondays)\n",
    "cumdays"
   ]
  },
  {
   "cell_type": "code",
   "execution_count": 6,
   "id": "b3cf1a04",
   "metadata": {},
   "outputs": [],
   "source": [
    "# Days is the Nth day of the year. The first date in the data is 27/02/2020, which is the 58th day of 2020\n",
    "Days = Day+np.array(cumdays)[Month-1+12*Year]\n",
    "# The indices of the data df from 27/02 to 14/03\n",
    "Index_f1_adj = np.where(Days <= 31+29+0+14) # up to (excl.) 1th Mar (+ 2 week lag)\n",
    "I_hos = np.array(InfDF.Hospital_admission)\n",
    "F1_loc = Loc[Index_f1_adj]\n",
    "F1_hos = I_hos[Index_f1_adj]\n",
    "F1_i = I_hos[Index_f1_adj]/0.01851547\n"
   ]
  },
  {
   "cell_type": "code",
   "execution_count": 18,
   "id": "13da936b",
   "metadata": {},
   "outputs": [
    {
     "data": {
      "text/plain": [
       "5848"
      ]
     },
     "execution_count": 18,
     "metadata": {},
     "output_type": "execute_result"
    }
   ],
   "source": [
    "len(F1_i)"
   ]
  },
  {
   "cell_type": "code",
   "execution_count": 21,
   "id": "f49677ca",
   "metadata": {},
   "outputs": [
    {
     "data": {
      "text/plain": [
       "17"
      ]
     },
     "execution_count": 21,
     "metadata": {},
     "output_type": "execute_result"
    }
   ],
   "source": [
    "sum(F1_loc == 'Altena')"
   ]
  },
  {
   "cell_type": "code",
   "execution_count": 52,
   "id": "69ba5e5a",
   "metadata": {},
   "outputs": [
    {
     "name": "stdout",
     "output_type": "stream",
     "text": [
      "There were 437 people hospitalized between 27/02/2020 and 14/03/2020\n"
     ]
    }
   ],
   "source": [
    "print(f\"There were {sum(F1_hos)} people hospitalized between 27/02/2020 and 14/03/2020\")"
   ]
  },
  {
   "cell_type": "code",
   "execution_count": 53,
   "id": "51133f60",
   "metadata": {},
   "outputs": [
    {
     "name": "stdout",
     "output_type": "stream",
     "text": [
      "There were on estimate 23601.88534236508 people infected between 27/02/2020 and 14/03/2020\n"
     ]
    }
   ],
   "source": [
    "print(f\"There were on estimate {sum(F1_i)} people infected between 27/02/2020 and 14/03/2020\")"
   ]
  },
  {
   "cell_type": "code",
   "execution_count": 14,
   "id": "db698040",
   "metadata": {},
   "outputs": [
    {
     "data": {
      "text/plain": [
       "17.0"
      ]
     },
     "execution_count": 14,
     "metadata": {},
     "output_type": "execute_result"
    }
   ],
   "source": [
    "# number of days of hospitalization data considered for initial infected estimation (from 27/02 <-> 14/03 = 17 days)\n",
    "num_municipalities_in_2020 = 344\n",
    "f1_num_days = len(Index_f1_adj[0]) / num_municipalities_in_2020\n",
    "f1_num_days"
   ]
  },
  {
   "cell_type": "code",
   "execution_count": 13,
   "id": "79e6c6f9",
   "metadata": {},
   "outputs": [
    {
     "data": {
      "text/plain": [
       "380"
      ]
     },
     "execution_count": 13,
     "metadata": {},
     "output_type": "execute_result"
    }
   ],
   "source": [
    "UniLocs = np.array(pd.read_csv(\"~/cbs-covid/src/data/Gemeenten2018.csv\")[\"Gemeentenaam\"])\n",
    "len(UniLocs)"
   ]
  },
  {
   "cell_type": "code",
   "execution_count": 38,
   "id": "21699822",
   "metadata": {},
   "outputs": [],
   "source": [
    "InitialI = np.zeros(len(UniLocs))\n",
    "for i in range(len(UniLocs)):\n",
    "    l = UniLocs[i]\n",
    "    w = np.where(F1_loc == l)[0]\n",
    "    if len(w) > 0:\n",
    "        InitialI[i] = np.nansum(F1_i[w])\n",
    "    else:\n",
    "        if l in ['Aalburg', 'Werkendam', 'Woudrichem']:\n",
    "            InitialI[i] = np.nansum(F1_i[F1_loc == 'Altena'])/3\n",
    "        elif l in ['Dongeradeel', 'Ferwerderadiel', 'Kollumerland en Nieuwkruisland']:\n",
    "            InitialI[i] = np.nansum(F1_i[F1_loc == 'Noardeast-Fryslân'])/3\n",
    "        elif l in ['Geldermalsen', 'Lingewaal', 'Neerijnen']:\n",
    "            InitialI[i] = np.nansum(F1_i[F1_loc == 'West Betuwe'])/3\n",
    "        elif l in ['Groningen', 'Haren', 'Ten Boer']:\n",
    "            InitialI[i] = np.nansum(F1_i[F1_loc == 'Groningen'])/3\n",
    "        elif l in ['Bedum', 'De Marne', 'Eemsmond', 'Winsum']:\n",
    "            InitialI[i] = np.nansum(F1_i[F1_loc == 'Het Hogeland'])/4\n",
    "        elif l in ['Grootegast', 'Leek', 'Marum', 'Zuidhorn']:\n",
    "            InitialI[i] = np.nansum(F1_i[F1_loc == 'Westerkwartier'])/4\n",
    "        elif l in ['Nuth', 'Onderbanken', 'Schinnen']:\n",
    "            InitialI[i] = np.nansum(F1_i[F1_loc == 'Beekdaelen'])/3\n",
    "        elif l in ['Haarlemmerliede en Spaarnwoude', 'Haarlemmermeer']:\n",
    "            InitialI[i] = np.nansum(F1_i[F1_loc == 'Haarlemmermeer'])/2\n",
    "        elif l in ['Leerdam', 'Zederik', 'Vianen']:\n",
    "            InitialI[i] = np.nansum(F1_i[F1_loc == 'Vijfheerenlande'])/3\n",
    "        elif l in ['Binnenmaas', 'Cromstrijen', 'Korendijk', 'Oud-Beijerland', 'Strijen']:\n",
    "            InitialI[i] = np.nansum(F1_i[F1_loc == 'Hoeksche Waard'])/5\n",
    "        elif l in ['Giessenlanden', 'Molenwaard']:\n",
    "            InitialI[i] = np.nansum(F1_i[F1_loc == 'Molenlanden'])/2\n",
    "        elif l in ['Noordwijk', 'Noordwijkerhout']:\n",
    "            InitialI[i] = np.nansum(F1_i[F1_loc == 'Noordwijk'])/2\n",
    "        elif l in ['Appingedam', 'Delfzijl', 'Loppersum']:\n",
    "            InitialI[i] = np.nansum(F1_i[F1_loc == 'Eemsdelta'])/3\n",
    "        elif l in ['Sdwest-Frysln']:\n",
    "            InitialI[i] = np.nansum(F1_i[F1_loc == 'S\\x9cdwest-Frysl\\x89n'])\n",
    "        elif l in ['Hengelo']:\n",
    "            InitialI[i] = np.nansum(F1_i[F1_loc == 'Hengelo (O.)'])\n",
    "        elif l in ['Haaren', 'Oisterwijk']:\n",
    "            InitialI[i] = np.nansum(F1_i[F1_loc == 'Oisterwijk'])/2\n",
    "# InitialI = np.round(InitialI/100).astype(int) # divide by resolution (people per agent)\n",
    "InitialI = np.round(InitialI).astype(int) # divide by resolution (people per agent)\n"
   ]
  },
  {
   "cell_type": "code",
   "execution_count": 39,
   "id": "d5b19a14",
   "metadata": {},
   "outputs": [],
   "source": [
    "# The estimated initial infected per municipality per day before phase 1\n",
    "initial_infected_per_day = np.zeros(int(len(UniLocs) * f1_num_days))\n",
    "for i in range(len(UniLocs)):\n",
    "    l = UniLocs[i]\n",
    "    w = np.where(F1_loc == l)[0]\n",
    "    if len(w) > 0:\n",
    "        initial_infected_per_day[w] = F1_i[w]\n",
    "    else:\n",
    "        if l in ['Aalburg', 'Werkendam', 'Woudrichem']:\n",
    "            w = np.where(F1_loc == 'Altena')\n",
    "            initial_infected_per_day[w] = (F1_i[w])/3\n",
    "        elif l in ['Dongeradeel', 'Ferwerderadiel', 'Kollumerland en Nieuwkruisland']:\n",
    "            w = np.where(F1_loc == 'Noardeast-Fryslân')\n",
    "            initial_infected_per_day[w] = (F1_i[w])/3\n",
    "        elif l in ['Geldermalsen', 'Lingewaal', 'Neerijnen']:\n",
    "            w = np.where(F1_loc == 'West Betuwe')\n",
    "            initial_infected_per_day[w] = (F1_i[w])/3\n",
    "        elif l in ['Groningen', 'Haren', 'Ten Boer']:\n",
    "            w = np.where(F1_loc == 'Groningen')\n",
    "            initial_infected_per_day[w] = (F1_i[w])/3\n",
    "        elif l in ['Bedum', 'De Marne', 'Eemsmond', 'Winsum']:\n",
    "            w = np.where(F1_loc == 'Het Hogeland')\n",
    "            initial_infected_per_day[w] = (F1_i[w])/4\n",
    "        elif l in ['Grootegast', 'Leek', 'Marum', 'Zuidhorn']:\n",
    "            w = np.where(F1_loc == 'Westerkwartier')\n",
    "            initial_infected_per_day[w] = (F1_i[w])/4\n",
    "        elif l in ['Nuth', 'Onderbanken', 'Schinnen']:\n",
    "            w = np.where(F1_loc == 'Beekdaelen')\n",
    "            initial_infected_per_day[w] = (F1_i[w])/3\n",
    "        elif l in ['Haarlemmerliede en Spaarnwoude', 'Haarlemmermeer']:\n",
    "            w = np.where(F1_loc == 'Haarlemmermeer')\n",
    "            initial_infected_per_day[w] = (F1_i[w])/2\n",
    "        elif l in ['Leerdam', 'Zederik', 'Vianen']:\n",
    "            w = np.where(F1_loc == 'Vijfheerenlande')\n",
    "            initial_infected_per_day[w] = (F1_i[w])/3\n",
    "        elif l in ['Binnenmaas', 'Cromstrijen', 'Korendijk', 'Oud-Beijerland', 'Strijen']:\n",
    "            w = np.where(F1_loc == 'Hoeksche Waard')\n",
    "            initial_infected_per_day[w] = (F1_i[w])/5\n",
    "        elif l in ['Giessenlanden', 'Molenwaard']:\n",
    "            w = np.where(F1_loc == 'Molenlanden')\n",
    "            initial_infected_per_day[w] = (F1_i[w])/2\n",
    "        elif l in ['Noordwijk', 'Noordwijkerhout']:\n",
    "            w = np.where(F1_loc == 'Noordwijk')\n",
    "            initial_infected_per_day[w] = (F1_i[w])/2\n",
    "        elif l in ['Appingedam', 'Delfzijl', 'Loppersum']:\n",
    "            w = np.where(F1_loc == 'Eemsdelta')\n",
    "            initial_infected_per_day[w] = (F1_i[w])/3\n",
    "        elif l in ['Sdwest-Frysln']:\n",
    "            w = np.where(F1_loc == 'S\\x9cdwest-Frysl\\x89n')\n",
    "            initial_infected_per_day[w] = (F1_i[w])\n",
    "        elif l in ['Hengelo']:\n",
    "            w = np.where(F1_loc == 'Hengelo (O.)')\n",
    "            initial_infected_per_day[w] = (F1_i[w])\n",
    "        elif l in ['Haaren', 'Oisterwijk']:\n",
    "            w = np.where(F1_loc == 'Oisterwijk')\n",
    "            initial_infected_per_day[w] = (F1_i[w])/2\n",
    "initial_infected_per_day = np.round(initial_infected_per_day).astype(int) # divide by resolution (people per agent)\n"
   ]
  },
  {
   "cell_type": "code",
   "execution_count": 40,
   "id": "2315ee7d",
   "metadata": {},
   "outputs": [
    {
     "data": {
      "text/plain": [
       "22194"
      ]
     },
     "execution_count": 40,
     "metadata": {},
     "output_type": "execute_result"
    }
   ],
   "source": [
    "sum(InitialI)"
   ]
  },
  {
   "cell_type": "code",
   "execution_count": 41,
   "id": "f2475cf4",
   "metadata": {},
   "outputs": [
    {
     "data": {
      "text/plain": [
       "21305"
      ]
     },
     "execution_count": 41,
     "metadata": {},
     "output_type": "execute_result"
    }
   ],
   "source": [
    "sum(initial_infected_per_day)"
   ]
  },
  {
   "cell_type": "code",
   "execution_count": 42,
   "id": "4008423e",
   "metadata": {},
   "outputs": [],
   "source": [
    "initial_infected_per_day = pd.DataFrame({'Infected':initial_infected_per_day})\n",
    "initial_infected_per_day.to_csv('initial_infected_per_municipality_per_day.csv', index=False)"
   ]
  },
  {
   "cell_type": "code",
   "execution_count": 55,
   "id": "e7bd6c4e",
   "metadata": {},
   "outputs": [
    {
     "data": {
      "text/plain": [
       "(array([ 52, 203, 306]),)"
      ]
     },
     "execution_count": 55,
     "metadata": {},
     "output_type": "execute_result"
    }
   ],
   "source": [
    "mask_list_high_infected = np.where(InitialI > 1000)\n",
    "mask_list_high_infected"
   ]
  },
  {
   "cell_type": "code",
   "execution_count": null,
   "id": "dcbca199",
   "metadata": {},
   "outputs": [],
   "source": [
    "high_inf_locs = UniLocs[mask_list_high_infected]\n",
    "high_inf_locs"
   ]
  },
  {
   "cell_type": "code",
   "execution_count": 14,
   "id": "a08b1719",
   "metadata": {},
   "outputs": [],
   "source": [
    "initial_infected = pd.DataFrame({'Gemeentenaam':UniLocs, 'Infected':InitialI})"
   ]
  },
  {
   "cell_type": "code",
   "execution_count": 15,
   "id": "2e029146",
   "metadata": {},
   "outputs": [],
   "source": [
    "initial_infected.to_csv('initial_infected_per_municipality.csv', index=False)"
   ]
  },
  {
   "cell_type": "code",
   "execution_count": 25,
   "id": "7eb3cf49",
   "metadata": {},
   "outputs": [
    {
     "data": {
      "text/plain": [
       "22194"
      ]
     },
     "execution_count": 25,
     "metadata": {},
     "output_type": "execute_result"
    }
   ],
   "source": [
    "np.sum(InitialI)"
   ]
  },
  {
   "cell_type": "code",
   "execution_count": 37,
   "id": "756082e2",
   "metadata": {},
   "outputs": [
    {
     "name": "stdout",
     "output_type": "stream",
     "text": [
      "Number of non-zero entries = 154\n",
      "Number of infected = 22194\n"
     ]
    },
    {
     "data": {
      "image/png": "[encoded data removed]",
      "text/plain": [
       "<Figure size 432x288 with 1 Axes>"
      ]
     },
     "metadata": {
      "needs_background": "light"
     },
     "output_type": "display_data"
    }
   ],
   "source": [
    "plt.plot(InitialI)\n",
    "print(\"Number of non-zero entries = {}\".format(len([i for i in InitialI if i != 0])))\n",
    "print(\"Number of infected = {}\".format(sum(InitialI)))"
   ]
  },
  {
   "cell_type": "code",
   "execution_count": 42,
   "id": "ffdf4470",
   "metadata": {},
   "outputs": [
    {
     "name": "stdout",
     "output_type": "stream",
     "text": [
      "Number of non-zero entries = 142\n",
      "Number of infected = 249\n"
     ]
    },
    {
     "data": {
      "image/png": "[encoded data removed]",
      "text/plain": [
       "<Figure size 432x288 with 1 Axes>"
      ]
     },
     "metadata": {
      "needs_background": "light"
     },
     "output_type": "display_data"
    }
   ],
   "source": [
    "# if persons_per_agent is large, we lose a lot of information -> emphesis shifts to most-infected municipalities\n",
    "# also: any agent that gets infected implies that `persons_per_agent` people get infected, which results in very\n",
    "# sharp increases / decreases of infected / hospitalized \n",
    "persons_per_agent = 101\n",
    "InitialI_reduced = [round(item/persons_per_agent) for item in InitialI]\n",
    "plt.plot(InitialI_reduced)\n",
    "print(\"Number of non-zero entries = {}\".format(len([i for i in InitialI_reduced if i != 0])))\n",
    "print(\"Number of infected = {}\".format(sum(InitialI_reduced)))"
   ]
  },
  {
   "cell_type": "code",
   "execution_count": null,
   "id": "7aee1dfb",
   "metadata": {},
   "outputs": [],
   "source": []
  },
  {
   "cell_type": "code",
   "execution_count": null,
   "id": "e24b7493",
   "metadata": {},
   "outputs": [],
   "source": []
  }
 ],
 "metadata": {
  "kernelspec": {
   "display_name": "Python 3 (ipykernel)",
   "language": "python",
   "name": "python3"
  },
  "language_info": {
   "codemirror_mode": {
    "name": "ipython",
    "version": 3
   },
   "file_extension": ".py",
   "mimetype": "text/x-python",
   "name": "python",
   "nbconvert_exporter": "python",
   "pygments_lexer": "ipython3",
   "version": "3.9.17"
  }
 },
 "nbformat": 4,
 "nbformat_minor": 5
}
